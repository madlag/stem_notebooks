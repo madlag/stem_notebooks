{
 "cells": [
  {
   "cell_type": "code",
   "execution_count": 126,
   "metadata": {},
   "outputs": [
    {
     "name": "stdout",
     "output_type": "stream",
     "text": [
      "[ 3 -3]\n"
     ]
    },
    {
     "data": {
      "application/vnd.jupyter.widget-view+json": {
       "model_id": "79d6d93ad01d44008f2802c2bfdc8738",
       "version_major": 2,
       "version_minor": 0
      },
      "text/plain": [
       "Canvas(height=600, width=800)"
      ]
     },
     "metadata": {},
     "output_type": "display_data"
    }
   ],
   "source": [
    "import ipycanvas\n",
    "from contextlib import contextmanager\n",
    "\n",
    "\n",
    "class Canvas:\n",
    "    def __init__(self):\n",
    "        self.scale = 40\n",
    "        self.canvas = ipycanvas.Canvas(width=800, height=600)\n",
    "        self.draw_coordinate_system()\n",
    "\n",
    "    @contextmanager\n",
    "    def change_coords(self, invert = True):\n",
    "        canvas = self.canvas\n",
    "        canvas.save()\n",
    "\n",
    "        scale = self.scale\n",
    "        inv_scale = 1.0 / scale\n",
    "        if invert:\n",
    "            canvas.translate(0, canvas.height)\n",
    "            canvas.scale(scale, -scale)\n",
    "        else:\n",
    "            canvas.scale(scale, scale)        \n",
    "        self.xshift = 3\n",
    "        self.yshift = 6\n",
    "        canvas.translate(self.xshift, self.yshift)\n",
    "        yield canvas\n",
    "        canvas.restore()           \n",
    "        \n",
    "    def compute_coords(self, point):\n",
    "        return point[0], self.canvas.height / self.scale - point[1] - 2 * self.yshifg\n",
    "\n",
    "    def draw_coordinate_system(self):    \n",
    "        with self.change_coords() as canvas:\n",
    "            xshift, yshift = self.xshift, self.yshift\n",
    "            scale = self.scale\n",
    "            canvas.line_width = 1 / scale\n",
    "            canvas.stroke_style = '#000'\n",
    "            canvas.begin_path()\n",
    "            canvas.move_to(0, -yshift)\n",
    "            canvas.line_to(0, canvas.height)\n",
    "            canvas.stroke()\n",
    "            canvas.begin_path()\n",
    "            canvas.move_to(-xshift, 0)\n",
    "            canvas.line_to(canvas.width, 0)\n",
    "            canvas.stroke()\n",
    "            canvas.line_width = 1 / scale\n",
    "            canvas.stroke_style = '#ccc'\n",
    "            end = int(canvas.width / scale)\n",
    "            start = -end // 10\n",
    "            for i in range(start, end):\n",
    "                canvas.begin_path()\n",
    "                canvas.move_to(i, -yshift)\n",
    "                canvas.line_to(i, canvas.height)\n",
    "                canvas.stroke()\n",
    "                canvas.begin_path()\n",
    "                canvas.move_to(-xshift, i)\n",
    "                canvas.line_to(canvas.width, i)\n",
    "                canvas.stroke()\n",
    "#        self.draw_point([0,0], 'O')\n",
    "            \n",
    "    def draw_point(self, point, name = \"X\"):    \n",
    "        with self.change_coords() as canvas:\n",
    "            canvas.fill_arc(point[0], point[1], 0.1, 0, 360)\n",
    "            \n",
    "        with self.change_coords(invert = False) as canvas:            \n",
    "            canvas.font = '1px serif'\n",
    "            coords = self.compute_coords(point)\n",
    "            canvas.fill_arc(coords[0] + 0.1, coords[1], 0.1, 0, 360)\n",
    "#            canvas.fill_text(name, coords[0] + 0.2, coords[1] - 0.15)\n",
    "        \n",
    "    def draw_line(self, A, B):    \n",
    "        with self.change_coords() as canvas:\n",
    "            canvas.line_width = 1 / self.scale\n",
    "            canvas.begin_path()\n",
    "            canvas.move_to(*A)\n",
    "            canvas.line_to(*B)\n",
    "            canvas.stroke()\n",
    "            \n",
    "\n",
    "import numpy    \n",
    "\n",
    "\n",
    "canvas = Canvas()\n",
    "A = numpy.array([4,5])\n",
    "AP = numpy.array([A[0],0])\n",
    "B = numpy.array([7,2])\n",
    "BP = numpy.array([0,B[0]])\n",
    "canvas.draw_point([0,0], \"O\")\n",
    "if False:\n",
    "    canvas.draw_point(A, \"A\")\n",
    "    canvas.draw_point(AP, \"A'\")\n",
    "    canvas.draw_line(A, AP)\n",
    "    canvas.draw_point(B, \"B\")\n",
    "    canvas.draw_point(BP, \"B'\")\n",
    "    canvas.draw_line(B, BP)\n",
    "\n",
    "canvas.draw_point(A, \"A\")\n",
    "canvas.draw_point(B, \"B\")\n",
    "canvas.draw_line(A, B)\n",
    "V = B - A\n",
    "print(V)\n",
    "C = numpy.array([10,4])\n",
    "canvas.draw_point(C, \"C\")\n",
    "D = C + V \n",
    "canvas.draw_point(D, \"D\")\n",
    "canvas.draw_line(C, D)\n",
    "canvas.draw_line(A, C)\n",
    "canvas.draw_line(B, D)\n",
    "\n",
    "canvas.canvas\n"
   ]
  },
  {
   "cell_type": "code",
   "execution_count": null,
   "metadata": {},
   "outputs": [],
   "source": []
  },
  {
   "cell_type": "code",
   "execution_count": null,
   "metadata": {},
   "outputs": [],
   "source": []
  }
 ],
 "metadata": {
  "kernelspec": {
   "display_name": "Python 3",
   "language": "python",
   "name": "python3"
  },
  "language_info": {
   "codemirror_mode": {
    "name": "ipython",
    "version": 3
   },
   "file_extension": ".py",
   "mimetype": "text/x-python",
   "name": "python",
   "nbconvert_exporter": "python",
   "pygments_lexer": "ipython3",
   "version": "3.7.7"
  }
 },
 "nbformat": 4,
 "nbformat_minor": 4
}

{
 "cells": [
  {
   "cell_type": "markdown",
   "metadata": {},
   "source": [
    "# Different waveforms, different sounds\n",
    "\n",
    "Today we'll learn how to create sounds that represent the same note, but that *sounds* differently"
   ]
  },
  {
   "cell_type": "code",
   "execution_count": 1,
   "metadata": {},
   "outputs": [],
   "source": [
    "import numpy as np\n",
    "from scipy import signal\n",
    "from matplotlib import pyplot as plt\n",
    "\n",
    "fs = 44100\n",
    "\n",
    "def create_sound(frequency, seconds, kind = \"sinusoid\"):\n",
    "    \"\"\"This will create a sinusoid lasting 'seconds' with the given frequency.\n",
    "    A frequency of 440 is the A3 note.\"\"\"\n",
    "    # Generate array with seconds*sample_rate steps, ranging between 0 and seconds\n",
    "    t = np.linspace(0, seconds, int(seconds * fs), False)\n",
    "\n",
    "    if kind == \"sinusoid\":\n",
    "        # Generate a 440 Hz sine wave\n",
    "        note = np.sin(frequency * t * 2 * np.pi)\n",
    "    elif kind == \"square\":\n",
    "        note = signal.square(2 * np.pi * frequency * t)\n",
    "    elif kind == \"triangle\":\n",
    "        note = signal.sawtooth(2 * np.pi * frequency * t, width=0.5)\n",
    "    else:\n",
    "        raise Exception(\"Invalid sound kind %s, existing are sinusoid, square, triangle\" % kind)\n",
    "    \n",
    "    return note\n",
    "\n",
    "def plot_sound(input_sound):\n",
    "    plt.plot(input_sound)\n",
    "\n",
    "# Here we create a short sound, the A note    \n",
    "sound = create_sound(440, 5 / 440.0, kind=\"triangle\")\n",
    "# We display it\n",
    "plot_sound(sound)"
   ]
  },
  {
   "cell_type": "markdown",
   "metadata": {},
   "source": [
    "Now let's play it, using a new function, play_sound"
   ]
  },
  {
   "cell_type": "code",
   "execution_count": 2,
   "metadata": {},
   "outputs": [],
   "source": [
    "import simpleaudio as sa\n",
    "import random\n",
    "fs = 44100\n",
    "\n",
    "def play_sound(input_sound):    \n",
    "    # Ensure that highest value is in 16-bit range\n",
    "    audio = input_sound * (2**15 - 1) / np.max(np.abs(input_sound))\n",
    "    # Convert to 16-bit data\n",
    "    audio = audio.astype(np.int16)\n",
    "\n",
    "    # Start playback\n",
    "    play_obj = sa.play_buffer(audio, 1, 2, fs)\n",
    "\n",
    "    # Wait for playback to finish before exiting\n",
    "    play_obj.wait_done()\n",
    "    \n",
    "\n",
    "# Here we create different sounds, 1 second each, from the A note, but with different timbres (kind)\n",
    "for kind in [\"sinusoid\", \"triangle\", \"square\"]:\n",
    "    sound = create_sound(440, 1, kind=kind)\n",
    "    play_sound(sound)\n"
   ]
  },
  {
   "cell_type": "code",
   "execution_count": null,
   "metadata": {},
   "outputs": [],
   "source": []
  },
  {
   "cell_type": "code",
   "execution_count": null,
   "metadata": {},
   "outputs": [],
   "source": []
  }
 ],
 "metadata": {
  "kernelspec": {
   "display_name": "Python 3",
   "language": "python",
   "name": "python3"
  },
  "language_info": {
   "codemirror_mode": {
    "name": "ipython",
    "version": 3
   },
   "file_extension": ".py",
   "mimetype": "text/x-python",
   "name": "python",
   "nbconvert_exporter": "python",
   "pygments_lexer": "ipython3",
   "version": "3.7.3"
  }
 },
 "nbformat": 4,
 "nbformat_minor": 2
}
